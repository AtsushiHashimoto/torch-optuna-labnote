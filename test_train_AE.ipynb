{
 "cells": [
  {
   "cell_type": "code",
   "execution_count": 1,
   "metadata": {},
   "outputs": [],
   "source": [
    "import torch\n",
    "from torch.utils.data import DataLoader\n",
    "from torchvision import transforms\n",
    "from torchvision.datasets import MNIST\n",
    "from torchvision.utils import save_image\n",
    "import pylab\n",
    "import matplotlib.pyplot as plt\n",
    "\n",
    "import numpy as np\n",
    "%matplotlib inline\n",
    "\n",
    "import logging\n",
    "\n",
    "logger = logging.getLogger(\"logger\")    #logger名loggerを取得\n",
    "logger.setLevel(logging.DEBUG)  #loggerとしてはDEBUGで\n",
    "\n",
    "#handler1を作成\n",
    "handler1 = logging.StreamHandler()\n",
    "handler1.setFormatter(logging.Formatter(\"%(asctime)s %(levelname)8s %(message)s\"))\n",
    "\n",
    "import os\n",
    "\n"
   ]
  },
  {
   "cell_type": "code",
   "execution_count": 2,
   "metadata": {},
   "outputs": [
    {
     "name": "stdout",
     "output_type": "stream",
     "text": [
      "cuda\n"
     ]
    }
   ],
   "source": [
    "device = torch.device(\"cuda\" if torch.cuda.is_available() else \"cpu\")\n",
    "print(device)"
   ]
  },
  {
   "cell_type": "code",
   "execution_count": 3,
   "metadata": {},
   "outputs": [
    {
     "name": "stderr",
     "output_type": "stream",
     "text": [
      "/opt/pyenv/versions/3.6.5/lib/python3.6/site-packages/labnote/core.py:71: UserWarning: Please set your script file name to 'script_name'.\n",
      "  warn(\"Please set your script file name to 'script_name'.\")\n",
      "/opt/pyenv/versions/3.6.5/lib/python3.6/site-packages/labnote/core.py:72: UserWarning: ex) note.script_name = xxx.ipynb\n",
      "  warn(\"ex) note.script_name = xxx.ipynb\")\n",
      "/opt/pyenv/versions/3.6.5/lib/python3.6/site-packages/labnote/core.py:73: UserWarning: NOTE: This warning may happen if you are using jupyter in a docker, and access via port-forwarding. Using jupyter with password authentification can be another possibility.\n",
      "  warn(\"NOTE: This warning may happen if you are using jupyter in a docker, and access via port-forwarding. Using jupyter with password authentification can be another possibility.\")\n"
     ]
    }
   ],
   "source": [
    "import labnote as lb\n",
    "if lb.utils.is_executed_on_ipython():\n",
    "    %reload_ext autoreload\n",
    "    %autoreload 2\n",
    "\n",
    "note = lb.Note(arguments=['conf_train_args.yaml',{'config':'conf_AE.yaml'}])\n",
    "\n",
    "\n",
    "# Fix seed\n",
    "if 'seed' in note.params.keys():\n",
    "    np.random.seed(note.params.seed)\n",
    "    _ = torch.manual_seed(note.params.seed)"
   ]
  },
  {
   "cell_type": "code",
   "execution_count": 4,
   "metadata": {},
   "outputs": [
    {
     "name": "stdout",
     "output_type": "stream",
     "text": [
      "torch.Size([60000, 28, 28])\n",
      "torch.Size([60000])\n"
     ]
    },
    {
     "data": {
      "image/png": "[encoded data removed]",
      "text/plain": [
       "<Figure size 432x288 with 1 Axes>"
      ]
     },
     "metadata": {},
     "output_type": "display_data"
    }
   ],
   "source": [
    "# Mnist digits dataset\n",
    "train_data = MNIST(\n",
    "    root='./data/mnist/',\n",
    "    train=True,                                     # this is training data\n",
    "    transform=transforms.ToTensor(),    # Converts a PIL.Image or numpy.ndarray to\n",
    "                                                    # torch.FloatTensor of shape (C x H x W) and normalize in the range [0.0, 1.0]\n",
    "    download=True,                        # download it if you don't have it\n",
    ")\n",
    "# plot one example\n",
    "print(train_data.train_data.size())     # (60000, 28, 28)\n",
    "print(train_data.train_labels.size())   # (60000)\n",
    "plt.imshow(train_data.train_data[2].numpy(), cmap='gray')\n",
    "plt.title('%i' % train_data.train_labels[2])\n",
    "plt.show()\n",
    "\n",
    "# Data Loader for easy mini-batch return in training, the image batch shape will be (50, 1, 28, 28)\n",
    "train_loader = DataLoader(dataset=train_data, batch_size=note.params.batch_size, shuffle=True)\n"
   ]
  },
  {
   "cell_type": "code",
   "execution_count": 6,
   "metadata": {},
   "outputs": [
    {
     "name": "stderr",
     "output_type": "stream",
     "text": [
      "/opt/pyenv/versions/3.6.5/lib/python3.6/site-packages/torch/nn/modules/upsampling.py:129: UserWarning: nn.Upsample is deprecated. Use nn.functional.interpolate instead.\n",
      "  warnings.warn(\"nn.{} is deprecated. Use nn.functional.interpolate instead.\".format(self.name))\n"
     ]
    },
    {
     "name": "stdout",
     "output_type": "stream",
     "text": [
      "Train Epoch: 4/5 [44928/60000 (100%)]\tLoss: 0.029411\r"
     ]
    }
   ],
   "source": [
    "from sys import stdout\n",
    "import src.utils as my\n",
    "import src.network as net\n",
    "\n",
    "\n",
    "AE = net.AutoEncoder(note.params,logger,input_dim=1, gpu=note.params.gpu)\n",
    "optimizer = eval(note.params.optimizer.format('AE',note.params.learning_rate))\n",
    "\n",
    "epoch = 0\n",
    "global_step = 0\n",
    "AE.train()\n",
    "\n",
    "try:\n",
    "    writer.close()\n",
    "    my.reset_tensorboard(note.params.output)\n",
    "except:\n",
    "    pass\n",
    "from tensorboardX import SummaryWriter\n",
    "writer = SummaryWriter(note.params.output)\n",
    "\n",
    "def to_gpu(x):\n",
    "    gpu = 0\n",
    "    if note.params.gpu<-1:\n",
    "        return x\n",
    "    if note.params.gpu==-1:\n",
    "        gpu = 0\n",
    "    else:\n",
    "        gpu = note.params.gpu\n",
    "    return x.cuda(gpu)\n",
    "def to_cpu(x):\n",
    "    if note.params.gpu<-1:\n",
    "        return x\n",
    "    return x.cpu()\n",
    "\n",
    "for epoch in range(0,note.params.num_epochs):\n",
    "    for batch_idx, (x,y) in enumerate(train_loader):\n",
    "        x_true = to_gpu(x)\n",
    "        x = to_gpu(2*x-1)\n",
    "        y = to_gpu(y)\n",
    "        optimizer.zero_grad()\n",
    "        z,x_pred = AE.forward(x)\n",
    "        # z = z.detach() # to use z for further calculation.        \n",
    "        \n",
    "        # calc reconstruction loss\n",
    "        l = AE.calc_loss('reconstruction',global_step,x_pred,x_true, writer=writer)\n",
    "        l.backward()\n",
    "        \n",
    "        \n",
    "        optimizer.step()\n",
    "        if batch_idx % 100 == 0:\n",
    "            x_show = np.hstack([to_cpu(x_true[0]).detach(),to_cpu(x_pred[0]).detach()])\n",
    "            writer.add_image('x_pred_epoch%03d'%epoch, x_show, global_step)\n",
    "\n",
    "       \n",
    "        loss_data = to_cpu(l.detach()).numpy()\n",
    "        stdout.write(\n",
    "            'Train Epoch: {}/{} [{}/{} ({:.0f}%)]\\tLoss: {:.6f}\\r'.\n",
    "            format(epoch, note.params.num_epochs, batch_idx * len(x), len(train_loader.dataset),\n",
    "                   100. * batch_idx / len(train_loader), loss_data))        \n",
    "        global_step += 1"
   ]
  },
  {
   "cell_type": "code",
   "execution_count": 7,
   "metadata": {},
   "outputs": [],
   "source": [
    "# model save/load test.\n",
    "\n",
    "model_path = os.path.join(note.params.output,'model')\n",
    "AE.save(model_path)"
   ]
  },
  {
   "cell_type": "code",
   "execution_count": 8,
   "metadata": {},
   "outputs": [],
   "source": [
    "AE2 = net.AutoEncoder.load(model_path,logger=logger,input_dim=1, gpu=note.params.gpu)\n",
    "optimizer2 = eval(note.params.optimizer.format('AE2',note.params.learning_rate))"
   ]
  },
  {
   "cell_type": "code",
   "execution_count": 9,
   "metadata": {},
   "outputs": [
    {
     "name": "stderr",
     "output_type": "stream",
     "text": [
      "/opt/pyenv/versions/3.6.5/lib/python3.6/site-packages/torch/nn/modules/upsampling.py:129: UserWarning: nn.Upsample is deprecated. Use nn.functional.interpolate instead.\n",
      "  warnings.warn(\"nn.{} is deprecated. Use nn.functional.interpolate instead.\".format(self.name))\n"
     ]
    },
    {
     "name": "stdout",
     "output_type": "stream",
     "text": [
      "Train Epoch: 4/5 [44928/60000 (100%)]\tLoss: 0.014511\r"
     ]
    }
   ],
   "source": [
    "for x,y in train_loader:\n",
    "    x_true = to_gpu(x)\n",
    "    x = to_gpu(2*x-1)\n",
    "    optimizer2.zero_grad()\n",
    "    z,x_pred = AE2.forward(x)\n",
    "    # z = z.detach() # to use z for further calculation.        \n",
    "\n",
    "    # calc reconstruction loss\n",
    "    l = AE.calc_loss('reconstruction',global_step,x_pred,x_true)\n",
    "    l.backward()\n",
    "    optimizer2.step()\n",
    "    \n",
    "    loss_data = to_cpu(l.detach()).numpy()\n",
    "    stdout.write(\n",
    "        'Train Epoch: {}/{} [{}/{} ({:.0f}%)]\\tLoss: {:.6f}\\r'.\n",
    "        format(epoch, note.params.num_epochs, batch_idx * len(x), len(train_loader.dataset),\n",
    "               100. * batch_idx / len(train_loader), loss_data))   "
   ]
  },
  {
   "cell_type": "code",
   "execution_count": null,
   "metadata": {},
   "outputs": [],
   "source": []
  }
 ],
 "metadata": {
  "kernelspec": {
   "display_name": "Python 3",
   "language": "python",
   "name": "python3"
  },
  "language_info": {
   "codemirror_mode": {
    "name": "ipython",
    "version": 3
   },
   "file_extension": ".py",
   "mimetype": "text/x-python",
   "name": "python",
   "nbconvert_exporter": "python",
   "pygments_lexer": "ipython3",
   "version": "3.6.5"
  }
 },
 "nbformat": 4,
 "nbformat_minor": 2
}
