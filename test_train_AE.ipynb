{
 "cells": [
  {
   "cell_type": "code",
   "execution_count": null,
   "metadata": {},
   "outputs": [],
   "source": [
    "import torch\n",
    "from torch.utils.data import DataLoader\n",
    "from torchvision import transforms\n",
    "from torchvision.datasets import MNIST\n",
    "from torchvision.utils import save_image\n",
    "import pylab\n",
    "import matplotlib.pyplot as plt\n",
    "\n",
    "import numpy as np\n",
    "%matplotlib inline\n",
    "\n",
    "import logging\n",
    "\n",
    "logger = logging.getLogger(\"logger\")    #logger名loggerを取得\n",
    "logger.setLevel(logging.DEBUG)  #loggerとしてはDEBUGで\n",
    "\n",
    "#handler1を作成\n",
    "handler1 = logging.StreamHandler()\n",
    "handler1.setFormatter(logging.Formatter(\"%(asctime)s %(levelname)8s %(message)s\"))\n",
    "\n",
    "from tensorboardX import SummaryWriter\n",
    "import os\n",
    "\n"
   ]
  },
  {
   "cell_type": "code",
   "execution_count": null,
   "metadata": {},
   "outputs": [],
   "source": [
    "device = torch.device(\"cuda\" if torch.cuda.is_available() else \"cpu\")\n",
    "print(device)"
   ]
  },
  {
   "cell_type": "code",
   "execution_count": null,
   "metadata": {},
   "outputs": [],
   "source": [
    "import labnote as lb\n",
    "if lb.utils.is_executed_on_ipython():\n",
    "    %reload_ext autoreload\n",
    "    %autoreload 2\n",
    "\n",
    "note = lb.Note(arguments=['conf_train_args.yaml',{'config':'conf_AE.yaml'}])\n",
    "\n",
    "writer = writer = SummaryWriter(note.params.output)\n",
    "\n",
    "# Fix seed\n",
    "if 'seed' in note.params.keys():\n",
    "    np.random.seed(note.params.seed)\n",
    "    _ = torch.manual_seed(note.params.seed)"
   ]
  },
  {
   "cell_type": "code",
   "execution_count": null,
   "metadata": {},
   "outputs": [],
   "source": [
    "# Mnist digits dataset\n",
    "train_data = MNIST(\n",
    "    root='./mnist/',\n",
    "    train=True,                                     # this is training data\n",
    "    transform=transforms.ToTensor(),    # Converts a PIL.Image or numpy.ndarray to\n",
    "                                                    # torch.FloatTensor of shape (C x H x W) and normalize in the range [0.0, 1.0]\n",
    "    download=True,                        # download it if you don't have it\n",
    ")\n",
    "# plot one example\n",
    "print(train_data.train_data.size())     # (60000, 28, 28)\n",
    "print(train_data.train_labels.size())   # (60000)\n",
    "plt.imshow(train_data.train_data[2].numpy(), cmap='gray')\n",
    "plt.title('%i' % train_data.train_labels[2])\n",
    "plt.show()\n",
    "\n",
    "# Data Loader for easy mini-batch return in training, the image batch shape will be (50, 1, 28, 28)\n",
    "train_loader = DataLoader(dataset=train_data, batch_size=note.params.batch_size, shuffle=True)\n"
   ]
  },
  {
   "cell_type": "code",
   "execution_count": null,
   "metadata": {},
   "outputs": [],
   "source": [
    "import src.network as net\n",
    "AE = net.AutoEncoder(note.params,logger,input_dim=1, gpu=note.params.gpu,writer=writer)\n",
    "optimizer = eval(note.params.optimizer.format('AE',note.params.learning_rate))"
   ]
  },
  {
   "cell_type": "code",
   "execution_count": null,
   "metadata": {},
   "outputs": [],
   "source": [
    "epoch = 0\n",
    "global_step = 0\n",
    "AE.train()\n",
    "\n",
    "from sys import stdout\n",
    "\n",
    "for epoch in range(0,note.params.num_epochs):\n",
    "    for batch_idx, (x,y) in enumerate(train_loader):\n",
    "        optimizer.zero_grad()\n",
    "        z,x_pred = AE.forward(x)\n",
    "        # z = z.detach() # to use z for further calculation.        \n",
    "        \n",
    "        # calc reconstruction loss\n",
    "        l = AE.calc_loss('reconstruction',global_step,x_pred,x)\n",
    "        l.backward()\n",
    "        \n",
    "        \n",
    "        optimizer.step()\n",
    "        if batch_idx % 100 == 0:\n",
    "            writer.add_image('x_pred_epoch%3d'%epoch, x_pred[0], global_step)\n",
    "\n",
    "        if batch_idx % 10 == 0:\n",
    "            loss_data = l.detach().numpy()\n",
    "            stdout.write(\n",
    "                'Train Epoch: {}/{} [{}/{} ({:.0f}%)]\\tLoss: {:.6f}\\r'.\n",
    "                format(epoch, note.params.num_epochs, batch_idx * len(x), len(train_loader.dataset),\n",
    "                       100. * batch_idx / len(train_loader), loss_data))        \n",
    "        global_step += 1"
   ]
  },
  {
   "cell_type": "code",
   "execution_count": null,
   "metadata": {},
   "outputs": [],
   "source": [
    "# model save/load test.\n",
    "\n",
    "model_path = os.path.join(note.params.output,'model')\n",
    "AE.save(model_path)"
   ]
  },
  {
   "cell_type": "code",
   "execution_count": null,
   "metadata": {},
   "outputs": [],
   "source": [
    "AE2 = net.AutoEncoder.load(model_path,logger=logger,input_dim=1, gpu=note.params.gpu,writer=writer)\n",
    "optimizer2 = eval(note.params.optimizer.format('AE2',note.params.learning_rate))"
   ]
  },
  {
   "cell_type": "code",
   "execution_count": null,
   "metadata": {},
   "outputs": [],
   "source": [
    "for src_img,src_label in train_loader:\n",
    "    optimizer2.zero_grad()\n",
    "    z,reconst = AE2.forward(src_img)\n",
    "    # z = z.detach() # to use z for further calculation.        \n",
    "\n",
    "    # calc reconstruction loss\n",
    "    l = AE.calc_loss('reconstruction',global_step,reconst,src_img)\n",
    "    l.backward()\n",
    "    print(l)\n",
    "    optimizer2.step()\n"
   ]
  },
  {
   "cell_type": "code",
   "execution_count": null,
   "metadata": {},
   "outputs": [],
   "source": []
  }
 ],
 "metadata": {
  "kernelspec": {
   "display_name": "Python 3",
   "language": "python",
   "name": "python3"
  },
  "language_info": {
   "codemirror_mode": {
    "name": "ipython",
    "version": 3
   },
   "file_extension": ".py",
   "mimetype": "text/x-python",
   "name": "python",
   "nbconvert_exporter": "python",
   "pygments_lexer": "ipython3",
   "version": "3.6.5"
  }
 },
 "nbformat": 4,
 "nbformat_minor": 2
}
