{
 "cells": [
  {
   "cell_type": "code",
   "execution_count": 1,
   "metadata": {},
   "outputs": [],
   "source": [
    "from src.network import LossWeight"
   ]
  },
  {
   "cell_type": "code",
   "execution_count": 9,
   "metadata": {},
   "outputs": [
    {
     "name": "stdout",
     "output_type": "stream",
     "text": [
      "(5:0.000000,15:1.000000)\n",
      "(10:0.100000,10:0.200000)\n"
     ]
    }
   ],
   "source": [
    "w1 = LossWeight(0,1,5,15)\n",
    "print(w1)\n",
    "w2 = LossWeight(0.1,0.2,10,10)\n",
    "print(w2)\n",
    "w3 = LossWeight(0.5)"
   ]
  },
  {
   "cell_type": "code",
   "execution_count": 11,
   "metadata": {},
   "outputs": [
    {
     "name": "stdout",
     "output_type": "stream",
     "text": [
      "0 :  0 0.1 0.5\n",
      "1 :  0 0.1 0.5\n",
      "2 :  0 0.1 0.5\n",
      "3 :  0 0.1 0.5\n",
      "4 :  0 0.1 0.5\n",
      "5 :  0 0.1 0.5\n",
      "6 :  0.1 0.1 0.5\n",
      "7 :  0.2 0.1 0.5\n",
      "8 :  0.3 0.1 0.5\n",
      "9 :  0.4 0.1 0.5\n",
      "10 :  0.5 0.1 0.5\n",
      "11 :  0.6 0.2 0.5\n",
      "12 :  0.7 0.2 0.5\n",
      "13 :  0.8 0.2 0.5\n",
      "14 :  0.9 0.2 0.5\n",
      "15 :  1.0 0.2 0.5\n",
      "16 :  1 0.2 0.5\n",
      "17 :  1 0.2 0.5\n",
      "18 :  1 0.2 0.5\n",
      "19 :  1 0.2 0.5\n"
     ]
    }
   ],
   "source": [
    "for step in range(0,20):\n",
    "    print(step,\": \",w1(step),w2(step),w3(step))"
   ]
  },
  {
   "cell_type": "code",
   "execution_count": null,
   "metadata": {},
   "outputs": [],
   "source": []
  }
 ],
 "metadata": {
  "kernelspec": {
   "display_name": "Python 3",
   "language": "python",
   "name": "python3"
  },
  "language_info": {
   "codemirror_mode": {
    "name": "ipython",
    "version": 3
   },
   "file_extension": ".py",
   "mimetype": "text/x-python",
   "name": "python",
   "nbconvert_exporter": "python",
   "pygments_lexer": "ipython3",
   "version": "3.6.5"
  }
 },
 "nbformat": 4,
 "nbformat_minor": 2
}
