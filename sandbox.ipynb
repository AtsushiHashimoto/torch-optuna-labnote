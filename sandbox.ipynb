{
 "cells": [
  {
   "cell_type": "code",
   "execution_count": 1,
   "metadata": {},
   "outputs": [],
   "source": [
    "import warnings"
   ]
  },
  {
   "cell_type": "code",
   "execution_count": 2,
   "metadata": {},
   "outputs": [],
   "source": [
    "value = \"1+2) + 3\"\n",
    "value = \"(1+2) + 3\"\n",
    "value = \"hoge\""
   ]
  },
  {
   "cell_type": "code",
   "execution_count": 3,
   "metadata": {},
   "outputs": [
    {
     "name": "stdout",
     "output_type": "stream",
     "text": [
      "hoge\n"
     ]
    }
   ],
   "source": [
    "try:\n",
    "    res = eval(value)\n",
    "except SyntaxError as e:\n",
    "    warnings.warn(\"syntax error in '%s'\"%value)\n",
    "    raise RuntimeError(e.msg)\n",
    "    e.with_traceback\n",
    "except NameError:\n",
    "    res = value\n",
    "print(res)"
   ]
  },
  {
   "cell_type": "code",
   "execution_count": 4,
   "metadata": {},
   "outputs": [],
   "source": [
    "import re\n",
    "\n",
    "func_call_pat = re.compile(\"(^|\\s)[a-zA-Z_][a-zA-Z0-9_]*\\(.*\\)\")\n",
    "def is_func_call(string):\n",
    "    return func_call_pat.search(string) is not None"
   ]
  },
  {
   "cell_type": "code",
   "execution_count": 5,
   "metadata": {},
   "outputs": [
    {
     "name": "stdout",
     "output_type": "stream",
     "text": [
      "True\n",
      "True\n",
      "True\n",
      "True\n",
      "False\n"
     ]
    }
   ],
   "source": [
    "print(is_func_call('_hoge2(huga) '))\n",
    "print(is_func_call(' _hoge2(huga) '))\n",
    "print(is_func_call('abc_hoge2(huga) '))\n",
    "print(is_func_call('lamda * _hoge2(huga) '))\n",
    "print(is_func_call('2_hoge2(huga) '))\n"
   ]
  },
  {
   "cell_type": "code",
   "execution_count": 6,
   "metadata": {},
   "outputs": [],
   "source": [
    "hook_pat = re.compile(\"^__hook__(.+)\")\n",
    "def is_hook(string):\n",
    "    match = hook_pat.match(string)\n",
    "    if match is None:\n",
    "        return None\n",
    "    else:\n",
    "        return match.group(1)"
   ]
  },
  {
   "cell_type": "code",
   "execution_count": 7,
   "metadata": {},
   "outputs": [
    {
     "name": "stdout",
     "output_type": "stream",
     "text": [
      "hoge\n"
     ]
    }
   ],
   "source": [
    "print(is_hook('__hook__hoge'))"
   ]
  },
  {
   "cell_type": "code",
   "execution_count": 14,
   "metadata": {},
   "outputs": [],
   "source": [
    "from easydict import EasyDict as edict\n",
    "class CapsuleDict(edict):\n",
    "    def __init__(self,*args,**kwargs):\n",
    "        super(CapsuleDict,self).__init__(*args,**kwargs)\n",
    "        self.called = set()\n",
    "    def __getitem__(self,key):\n",
    "        val = super(CapsuleDict,self).__getitem__(key)\n",
    "        if key in self.called:\n",
    "            return val\n",
    "        val = eval(val)\n",
    "        self.called.add(key)\n",
    "        self[key] = val\n",
    "        return val"
   ]
  },
  {
   "cell_type": "code",
   "execution_count": 15,
   "metadata": {},
   "outputs": [
    {
     "name": "stdout",
     "output_type": "stream",
     "text": [
      "6\n",
      "6\n"
     ]
    }
   ],
   "source": [
    "D = CapsuleDict({'a':'1+2','b':'b+2'})\n",
    "b = 4\n",
    "print(D['b'])\n",
    "b = 2\n",
    "print(D['b'])\n"
   ]
  },
  {
   "cell_type": "code",
   "execution_count": null,
   "metadata": {},
   "outputs": [],
   "source": []
  },
  {
   "cell_type": "code",
   "execution_count": null,
   "metadata": {},
   "outputs": [],
   "source": []
  }
 ],
 "metadata": {
  "kernelspec": {
   "display_name": "Python 3",
   "language": "python",
   "name": "python3"
  },
  "language_info": {
   "codemirror_mode": {
    "name": "ipython",
    "version": 3
   },
   "file_extension": ".py",
   "mimetype": "text/x-python",
   "name": "python",
   "nbconvert_exporter": "python",
   "pygments_lexer": "ipython3",
   "version": "3.6.5"
  }
 },
 "nbformat": 4,
 "nbformat_minor": 2
}
