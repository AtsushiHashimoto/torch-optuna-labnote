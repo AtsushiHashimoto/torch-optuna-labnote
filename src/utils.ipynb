{
 "cells": [
  {
   "cell_type": "code",
   "execution_count": null,
   "metadata": {},
   "outputs": [],
   "source": [
    "import os\n",
    "import fnmatch\n",
    "import argparse\n",
    "\n",
    "\n",
    "def find(path,pat):\n",
    "    files = []\n",
    "    for root, dirs, names in os.walk(path):\n",
    "        new_files = [ os.path.join(root, f) for f in names\n",
    "            if fnmatch.fnmatch(os.path.join(root, f), pat) ]\n",
    "        files.extend(new_files)\n",
    "    return files\n",
    "\n",
    "def reset_tensorboard(log_dir):\n",
    "    files = find(log_dir,'*/events.out.tfevents.*')\n",
    "    for f in files:\n",
    "        os.remove(f)"
   ]
  },
  {
   "cell_type": "code",
   "execution_count": null,
   "metadata": {},
   "outputs": [],
   "source": [
    "class History:\n",
    "    "
   ]
  }
 ],
 "metadata": {
  "kernelspec": {
   "display_name": "Python 3",
   "language": "python",
   "name": "python3"
  },
  "language_info": {
   "codemirror_mode": {
    "name": "ipython",
    "version": 3
   },
   "file_extension": ".py",
   "mimetype": "text/x-python",
   "name": "python",
   "nbconvert_exporter": "python",
   "pygments_lexer": "ipython3",
   "version": "3.6.5"
  }
 },
 "nbformat": 4,
 "nbformat_minor": 2
}
